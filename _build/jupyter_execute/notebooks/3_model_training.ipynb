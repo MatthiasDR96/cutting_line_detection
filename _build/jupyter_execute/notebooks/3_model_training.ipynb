{
 "cells": [
  {
   "cell_type": "markdown",
   "metadata": {},
   "source": [
    "# Model training\n",
    "\n",
    "This script trains a neural network based on a pretrained ResNet18 neural net on the training data and outputs the results in the form of learning curves. "
   ]
  },
  {
   "cell_type": "code",
   "execution_count": 1,
   "metadata": {},
   "outputs": [
    {
     "name": "stderr",
     "output_type": "stream",
     "text": [
      "c:\\python39\\lib\\site-packages\\tqdm\\auto.py:21: TqdmWarning: IProgress not found. Please update jupyter and ipywidgets. See https://ipywidgets.readthedocs.io/en/stable/user_install.html\n",
      "  from .autonotebook import tqdm as notebook_tqdm\n"
     ]
    }
   ],
   "source": [
    "# Imports\n",
    "import cv2\n",
    "import math\n",
    "import torch\n",
    "import numpy as np\n",
    "import pandas as pd\n",
    "import torch.nn as nn\n",
    "import albumentations as A\n",
    "from torchvision import models\n",
    "import matplotlib.pyplot as plt\n",
    "import torch.nn.functional as F\n",
    "from torch.utils.data import Dataset\n",
    "from torch.utils.data import DataLoader\n",
    "from albumentations.pytorch import ToTensorV2"
   ]
  },
  {
   "cell_type": "code",
   "execution_count": 2,
   "metadata": {},
   "outputs": [],
   "source": [
    "# Check if there is a graphical card (CUDA) available on the PC\n",
    "device = torch.device(\"cuda:\" + str(torch.cuda.current_device()) if torch.cuda.is_available() else \"cpu\")"
   ]
  },
  {
   "cell_type": "code",
   "execution_count": 3,
   "metadata": {},
   "outputs": [],
   "source": [
    "# Set training parameters\n",
    "epochs = 100 # Number of times that the model sees the whole dataset\n",
    "learning_rate = 0.01 # Step size of the weight adjustment to reduce the error of the model\n",
    "batch_size = 16 # Number of samples processed before the model is updated\n",
    "augmentation = 0 # Boolean to set the usage of data augmentation on or off"
   ]
  },
  {
   "cell_type": "markdown",
   "metadata": {},
   "source": [
    "The class below defines the dataset class. This class defines how the images and labels of each sample are processed before sent to the neural network. Before doing this, the image is read and processed, as well as the labels. By default, the image is resized, normalized, and converted to a tensor to be read by the neural network. When data augmentation is activated for the training, also other transformations are applied to the image. It is important that also the labels (cutting line) undergoes the same transformation as the image does. Finally, the transformed image and label are send to the neural network. "
   ]
  },
  {
   "cell_type": "code",
   "execution_count": 4,
   "metadata": {},
   "outputs": [],
   "source": [
    "# This class impements the Dataset\n",
    "class Dataset(Dataset):\n",
    "\n",
    "\tdef __init__(self, paths, transform=False):\n",
    "\t\tself.paths = paths # All file paths to the images\n",
    "\t\tself.transform = transform # Boolean to set the usage of data augmentation on or off\n",
    "\n",
    "\tdef __len__(self):\n",
    "\t\treturn len(self.paths)\n",
    "\n",
    "\tdef __getitem__(self, idx):\n",
    "\n",
    "\t\t# Retrieve image file path\n",
    "\t\timg_path = self.paths[idx]\n",
    "\n",
    "\t\t# Read image and convert to RGB space\n",
    "\t\timage = cv2.imread(img_path) \n",
    "\t\timage = cv2.cvtColor(image, cv2.COLOR_BGR2RGB)\n",
    "\n",
    "\t\t# Get label [x1, y1, x2, y2]\n",
    "\t\tkey = img_path.split('\\\\')[-1].split('.')[0]\n",
    "\t\tlabel_file = open(\"../data/labels/\" + key + \".txt\", \"r\")\n",
    "\t\tlabeldata = label_file.read().split(\" \")\n",
    "\n",
    "\t\t# Get keypoints [(x1, y1), (x2, y2)]\n",
    "\t\tkeypoints = [(float(labeldata[4]), float(labeldata[5])), (float(labeldata[6]), float(labeldata[7]))]\n",
    "\n",
    "\t\t# Define augmentation pipeline\n",
    "\t\tif self.transform:\n",
    "\t\t\ttransform = A.Compose([\n",
    "\t\t\t\tA.AdvancedBlur(),\n",
    "\t\t\t\tA.RandomGravel(),\n",
    "\t\t\t\tA.ISONoise(),\n",
    "\t\t\t\tA.RandomRotate90(p=0.5),\n",
    "\t\t\t\tA.HorizontalFlip(p=0.2),\n",
    "\t\t\t\tA.RandomBrightnessContrast(p=0.5),\n",
    "\t\t\t\tA.Resize(224, 224),\n",
    "\t\t\t\tA.Normalize(mean=[0.485, 0.456, 0.406], std=[0.229, 0.224, 0.225]),\n",
    "\t\t\t\tToTensorV2(),\n",
    "\t\t\t], keypoint_params=A.KeypointParams(format='xy', remove_invisible=True))\n",
    "\t\telse:\n",
    "\t\t\ttransform = A.Compose([\n",
    "\t\t\t\tA.Resize(224, 224),\n",
    "\t\t\t\tA.Normalize(mean=[0.485, 0.456, 0.406], std=[0.229, 0.224, 0.225]),\n",
    "\t\t\t\tToTensorV2(),\n",
    "\t\t\t], keypoint_params=A.KeypointParams(format='xy', remove_invisible=True))\n",
    "\t\t\n",
    "\t\t# Transform image and keypoints\n",
    "\t\ttransformed = transform(image=image, keypoints=keypoints)\n",
    "\t\ttransformed_image = transformed['image']\n",
    "\t\ttransformed_keypoints = transformed['keypoints']\n",
    "\n",
    "\t\t# Get target [x1, y1, x2, y2]\n",
    "\t\ttarget = np.array([transformed_keypoints[0][0], transformed_keypoints[0][1], transformed_keypoints[1][0], transformed_keypoints[1][1]])\n",
    "\n",
    "\t\treturn transformed_image, target\n"
   ]
  },
  {
   "cell_type": "markdown",
   "metadata": {},
   "source": [
    "In the next step, the data is read from the database and assigned to the dataset class. We will apply data augmentation to the training set but not on the validation set as these images should reflect the real situation properly. "
   ]
  },
  {
   "cell_type": "code",
   "execution_count": 5,
   "metadata": {},
   "outputs": [],
   "source": [
    "# Load csv files containing the image file paths\n",
    "df_train = pd.read_pickle('../data/train_data.csv')\n",
    "df_valid = pd.read_pickle('../data/valid_data.csv')\n",
    "\n",
    "# Create datasets using the dataset class that applies image transforms if the transform parameter is set to True\n",
    "train_ds = Dataset(df_train['path_names'], transform=augmentation)\n",
    "valid_ds = Dataset(df_valid['path_names'], transform=False) "
   ]
  },
  {
   "cell_type": "markdown",
   "metadata": {},
   "source": [
    "Next, some dataloaders are defined for the train and validation set. These are able to load batches of data with a predefined size and send it to the network. "
   ]
  },
  {
   "cell_type": "code",
   "execution_count": 6,
   "metadata": {},
   "outputs": [],
   "source": [
    "# Create data loaders that extract batches from the dataset with a certain batch size\n",
    "train_dl = DataLoader(train_ds, batch_size=batch_size, shuffle=False)\n",
    "valid_dl = DataLoader(valid_ds, batch_size=batch_size, shuffle=False)\n",
    "dataloaders = {'train': train_dl, 'valid': valid_dl}"
   ]
  },
  {
   "cell_type": "markdown",
   "metadata": {},
   "source": [
    "Below, two cost functions are defined. A line can be represented by a point and an angle. The first loss function makes sure that one of the two predicted points lies as close as possible to the center of the two points defined by the line label. This to eliminate possible negative effects that result from the fact that the points have no fixed order. Sometimes the first of the two points in the label can represent the point at the right side of the chicory, and sometimes it can represent the left side. The second loss function makes sure that the predicted line lies collinear with the ground truth line. It does this by computing the cosine similarity and taking the inverse cosine of the result. This value is set in degrees. "
   ]
  },
  {
   "cell_type": "code",
   "execution_count": 7,
   "metadata": {},
   "outputs": [],
   "source": [
    "# Computes the Euclidean distance between the first predicted point and the center of the ground truth points\n",
    "def loss_rmse_fun(pred, y):\n",
    "\n",
    "\t# Only get first xy point of prediction\n",
    "\txy1_pred = torch.stack((pred[:,0], pred[:,1]), 1) \n",
    "\n",
    "\t# Get center of two ground truth points\n",
    "\ty_centerx = (y[:,0] + y[:,2])/2\n",
    "\ty_centery = (y[:,1] + y[:,3])/2\n",
    "\ty_center = torch.stack((y_centerx, y_centery), 1)\n",
    "\n",
    "\t# Compute sum of Euclidean distances between first predicted point and center point\n",
    "\tloss = torch.sum(torch.sqrt(torch.sum((xy1_pred - y_center)**2, 1)))\n",
    "\n",
    "\treturn loss"
   ]
  },
  {
   "cell_type": "code",
   "execution_count": 8,
   "metadata": {},
   "outputs": [],
   "source": [
    "# Computes the error angle between the predicted and ground truth lines in degrees\n",
    "def loss_cos_fun(pred, y):\n",
    "\n",
    "\t# Get x and y differences between predicted points\n",
    "\tdelta_x_pred = pred[:,2]-pred[:,0]\n",
    "\tdelta_y_pred = pred[:,3]-pred[:,1]\n",
    "\n",
    "\t# Get x and y differences between ground truth points\n",
    "\tdelta_x_y = y[:,2]-y[:,0]\n",
    "\tdelta_y_y = y[:,3]-y[:,1]\n",
    "\n",
    "\t# Stack both into new tensors\n",
    "\ta = torch.stack((delta_x_pred, delta_y_pred), 1)\n",
    "\tb = torch.stack((delta_x_y, delta_y_y), 1)\n",
    "\n",
    "\t# Compute the sum of anle differences in degrees\n",
    "\tloss = torch.sum(torch.acos(F.cosine_similarity(a, b, dim=1)) * 180 / math.pi)\n",
    "\n",
    "\treturn loss"
   ]
  },
  {
   "cell_type": "markdown",
   "metadata": {},
   "source": [
    "The function below is the main training function. It loops over the predefined number of epochs and for every epoch, trains on the whole dataset in batches with a predefined size. For every batch, the summed loss over all samples in the batch is computed. And the model is updated according to this loss. After the whole dataset passed, the average loss over all datasamples is computed to obtain the training loss. In a second pass, the model validates on the validation set and outputs a validation loss. Both are saved in an array to be visualized as learning curves later on.  "
   ]
  },
  {
   "cell_type": "code",
   "execution_count": 9,
   "metadata": {},
   "outputs": [],
   "source": [
    "# This function implements the training and validation of the neural network\n",
    "def train_model(model, optimizer, dataloaders, device, epochs):\n",
    "\n",
    "\t# Learning curves\n",
    "\tresults = {\"training_loss\": [], \"validation_loss\": []}\n",
    "\n",
    "\t# Loop over epochs\n",
    "\tbest_model = model\n",
    "\tbest_loss = float('inf')\n",
    "\tfor epoch in range(epochs):\n",
    "\n",
    "\t\t# Debug\n",
    "\t\tprint(f'Epoch {epoch+1}/{epochs}')\n",
    "\n",
    "\t\t# Do a train and validation phase for each epoch\n",
    "\t\tfor phase in ['train', 'valid']:\n",
    "\n",
    "\t\t\t# Set state of model corresponding to phase\n",
    "\t\t\tif phase == 'train':\n",
    "\t\t\t\tmodel.train()  # Set model to training mode\n",
    "\t\t\telse:\n",
    "\t\t\t\tmodel.eval()   # Set model to evaluate mode\n",
    "\n",
    "\t\t\t# Reset loss over all batches and number of samples \n",
    "\t\t\trunning_loss = 0.0\n",
    "\t\t\tnum_samples = 0\n",
    "\n",
    "\t\t\t# Iterate over batches of inputs\n",
    "\t\t\tfor x, y in dataloaders[phase]:\n",
    "\n",
    "\t\t\t\t# Inputs shape\n",
    "\t\t\t\tbatch_size, *_ = x.shape\n",
    "\n",
    "\t\t\t\t# Convert input and outputs to CUDA\n",
    "\t\t\t\tx = x.to(device)\n",
    "\t\t\t\ty = y.to(device)\n",
    "\n",
    "\t\t\t\t# Predict line\n",
    "\t\t\t\tpred = model(x)\n",
    "\n",
    "\t\t\t\t# Compute total loss over batch\n",
    "\t\t\t\tloss_rmse_values = loss_rmse_fun(pred, y)\n",
    "\t\t\t\tloss_cos_values = loss_cos_fun(pred, y)\n",
    "\t\t\t\tloss = loss_rmse_values + loss_cos_values\n",
    "\n",
    "\t\t\t\t# Debug\n",
    "\t\t\t\t#debug(x, pred, y)\n",
    "\n",
    "\t\t\t\t# Sum losses of all batches\n",
    "\t\t\t\trunning_loss += loss.item()\n",
    "\n",
    "\t\t\t\t# Calculate total samples\n",
    "\t\t\t\tnum_samples += batch_size\n",
    "\n",
    "\t\t\t\t# When training\n",
    "\t\t\t\tif phase == 'train':\n",
    "\t\t\t\t\toptimizer.zero_grad() # Clear out gradients\n",
    "\t\t\t\t\tloss.backward() # Do backpropagation\n",
    "\t\t\t\t\toptimizer.step() # Step the optimizer\n",
    "\n",
    "\t\t\t# Compute total loss over the whole dataset (sum of loss of all samples divided by total number of samples)\n",
    "\t\t\tdataset_loss = running_loss/num_samples\n",
    "\n",
    "\t\t\t# Save results\n",
    "\t\t\tif phase == 'train':\n",
    "\t\t\t\tresults['training_loss'].append(dataset_loss)\n",
    "\t\t\t\tprint(\"train_loss %.3f\" % (dataset_loss))\n",
    "\t\t\telif phase == 'valid':\n",
    "\t\t\t\tresults['validation_loss'].append(dataset_loss)\n",
    "\t\t\t\tprint(\"val_loss %.3f\" % (dataset_loss))\n",
    "\n",
    "\t\t\t# Save model\n",
    "\t\t\tif phase == 'valid' and dataset_loss < best_loss:\n",
    "\t\t\t\tbest_model = model\n",
    "\t\t\t\tbest_loss = dataset_loss\n",
    "\n",
    "\t\t# Debug\n",
    "\t\tprint('-' * 10)\n",
    "\n",
    "\treturn best_loss, best_model, results"
   ]
  },
  {
   "cell_type": "markdown",
   "metadata": {},
   "source": [
    "The code below initiates the pretrained Resnet18 model and replaces the final fully connected layer (model.fc) with an untrained fully connected layer with four outputs ([x1, y1, x2, y2]). Also the model optimizer is defined. Finally, the above function is called to start training the network. "
   ]
  },
  {
   "cell_type": "code",
   "execution_count": 10,
   "metadata": {},
   "outputs": [
    {
     "name": "stdout",
     "output_type": "stream",
     "text": [
      "Epoch 1/100\n"
     ]
    },
    {
     "name": "stdout",
     "output_type": "stream",
     "text": [
      "train_loss 226.150\n"
     ]
    },
    {
     "name": "stdout",
     "output_type": "stream",
     "text": [
      "val_loss 235162.743\n",
      "----------\n",
      "Epoch 2/100\n"
     ]
    },
    {
     "name": "stdout",
     "output_type": "stream",
     "text": [
      "train_loss 211.857\n"
     ]
    },
    {
     "name": "stdout",
     "output_type": "stream",
     "text": [
      "val_loss 7366.656\n",
      "----------\n",
      "Epoch 3/100\n"
     ]
    },
    {
     "name": "stdout",
     "output_type": "stream",
     "text": [
      "train_loss 201.899\n"
     ]
    },
    {
     "name": "stdout",
     "output_type": "stream",
     "text": [
      "val_loss 212.989\n",
      "----------\n",
      "Epoch 4/100\n"
     ]
    },
    {
     "name": "stdout",
     "output_type": "stream",
     "text": [
      "train_loss 187.934\n"
     ]
    },
    {
     "name": "stdout",
     "output_type": "stream",
     "text": [
      "val_loss 178.792\n",
      "----------\n",
      "Epoch 5/100\n"
     ]
    },
    {
     "name": "stdout",
     "output_type": "stream",
     "text": [
      "train_loss 174.735\n"
     ]
    },
    {
     "name": "stdout",
     "output_type": "stream",
     "text": [
      "val_loss 151.768\n",
      "----------\n",
      "Epoch 6/100\n"
     ]
    },
    {
     "name": "stdout",
     "output_type": "stream",
     "text": [
      "train_loss 159.340\n"
     ]
    },
    {
     "name": "stdout",
     "output_type": "stream",
     "text": [
      "val_loss 154.658\n",
      "----------\n",
      "Epoch 7/100\n"
     ]
    },
    {
     "name": "stdout",
     "output_type": "stream",
     "text": [
      "train_loss 143.214\n"
     ]
    },
    {
     "name": "stdout",
     "output_type": "stream",
     "text": [
      "val_loss 155.246\n",
      "----------\n",
      "Epoch 8/100\n"
     ]
    },
    {
     "name": "stdout",
     "output_type": "stream",
     "text": [
      "train_loss 125.259\n"
     ]
    },
    {
     "name": "stdout",
     "output_type": "stream",
     "text": [
      "val_loss 120.592\n",
      "----------\n",
      "Epoch 9/100\n"
     ]
    },
    {
     "name": "stdout",
     "output_type": "stream",
     "text": [
      "train_loss 106.594\n"
     ]
    },
    {
     "name": "stdout",
     "output_type": "stream",
     "text": [
      "val_loss 98.147\n",
      "----------\n",
      "Epoch 10/100\n"
     ]
    },
    {
     "name": "stdout",
     "output_type": "stream",
     "text": [
      "train_loss 77.613\n"
     ]
    },
    {
     "name": "stdout",
     "output_type": "stream",
     "text": [
      "val_loss 79.749\n",
      "----------\n",
      "Epoch 11/100\n"
     ]
    },
    {
     "name": "stdout",
     "output_type": "stream",
     "text": [
      "train_loss 58.398\n"
     ]
    },
    {
     "name": "stdout",
     "output_type": "stream",
     "text": [
      "val_loss 75.772\n",
      "----------\n",
      "Epoch 12/100\n"
     ]
    },
    {
     "name": "stdout",
     "output_type": "stream",
     "text": [
      "train_loss 55.319\n"
     ]
    },
    {
     "name": "stdout",
     "output_type": "stream",
     "text": [
      "val_loss 64.174\n",
      "----------\n",
      "Epoch 13/100\n"
     ]
    },
    {
     "name": "stdout",
     "output_type": "stream",
     "text": [
      "train_loss 48.832\n"
     ]
    },
    {
     "name": "stdout",
     "output_type": "stream",
     "text": [
      "val_loss 67.499\n",
      "----------\n",
      "Epoch 14/100\n"
     ]
    },
    {
     "name": "stdout",
     "output_type": "stream",
     "text": [
      "train_loss 45.290\n"
     ]
    },
    {
     "name": "stdout",
     "output_type": "stream",
     "text": [
      "val_loss 99.184\n",
      "----------\n",
      "Epoch 15/100\n"
     ]
    },
    {
     "name": "stdout",
     "output_type": "stream",
     "text": [
      "train_loss 55.354\n"
     ]
    },
    {
     "name": "stdout",
     "output_type": "stream",
     "text": [
      "val_loss 86.182\n",
      "----------\n",
      "Epoch 16/100\n"
     ]
    },
    {
     "name": "stdout",
     "output_type": "stream",
     "text": [
      "train_loss 46.221\n"
     ]
    },
    {
     "name": "stdout",
     "output_type": "stream",
     "text": [
      "val_loss 100.039\n",
      "----------\n",
      "Epoch 17/100\n"
     ]
    },
    {
     "name": "stdout",
     "output_type": "stream",
     "text": [
      "train_loss 42.096\n"
     ]
    },
    {
     "name": "stdout",
     "output_type": "stream",
     "text": [
      "val_loss 65.404\n",
      "----------\n",
      "Epoch 18/100\n"
     ]
    },
    {
     "name": "stdout",
     "output_type": "stream",
     "text": [
      "train_loss 39.468\n"
     ]
    },
    {
     "name": "stdout",
     "output_type": "stream",
     "text": [
      "val_loss 57.437\n",
      "----------\n",
      "Epoch 19/100\n"
     ]
    },
    {
     "name": "stdout",
     "output_type": "stream",
     "text": [
      "train_loss 35.365\n"
     ]
    },
    {
     "name": "stdout",
     "output_type": "stream",
     "text": [
      "val_loss 44.016\n",
      "----------\n",
      "Epoch 20/100\n"
     ]
    },
    {
     "name": "stdout",
     "output_type": "stream",
     "text": [
      "train_loss 35.473\n"
     ]
    },
    {
     "name": "stdout",
     "output_type": "stream",
     "text": [
      "val_loss 62.555\n",
      "----------\n",
      "Epoch 21/100\n"
     ]
    },
    {
     "name": "stdout",
     "output_type": "stream",
     "text": [
      "train_loss 38.328\n"
     ]
    },
    {
     "name": "stdout",
     "output_type": "stream",
     "text": [
      "val_loss 63.722\n",
      "----------\n",
      "Epoch 22/100\n"
     ]
    },
    {
     "name": "stdout",
     "output_type": "stream",
     "text": [
      "train_loss 36.372\n"
     ]
    },
    {
     "name": "stdout",
     "output_type": "stream",
     "text": [
      "val_loss 51.918\n",
      "----------\n",
      "Epoch 23/100\n"
     ]
    },
    {
     "name": "stdout",
     "output_type": "stream",
     "text": [
      "train_loss 35.787\n"
     ]
    },
    {
     "name": "stdout",
     "output_type": "stream",
     "text": [
      "val_loss 51.270\n",
      "----------\n",
      "Epoch 24/100\n"
     ]
    },
    {
     "name": "stdout",
     "output_type": "stream",
     "text": [
      "train_loss 38.777\n"
     ]
    },
    {
     "name": "stdout",
     "output_type": "stream",
     "text": [
      "val_loss 57.833\n",
      "----------\n",
      "Epoch 25/100\n"
     ]
    },
    {
     "name": "stdout",
     "output_type": "stream",
     "text": [
      "train_loss 36.055\n"
     ]
    },
    {
     "name": "stdout",
     "output_type": "stream",
     "text": [
      "val_loss 45.273\n",
      "----------\n",
      "Epoch 26/100\n"
     ]
    },
    {
     "name": "stdout",
     "output_type": "stream",
     "text": [
      "train_loss 32.789\n"
     ]
    },
    {
     "name": "stdout",
     "output_type": "stream",
     "text": [
      "val_loss 44.718\n",
      "----------\n",
      "Epoch 27/100\n"
     ]
    },
    {
     "name": "stdout",
     "output_type": "stream",
     "text": [
      "train_loss 28.324\n"
     ]
    },
    {
     "name": "stdout",
     "output_type": "stream",
     "text": [
      "val_loss 42.398\n",
      "----------\n",
      "Epoch 28/100\n"
     ]
    },
    {
     "name": "stdout",
     "output_type": "stream",
     "text": [
      "train_loss 27.186\n"
     ]
    },
    {
     "name": "stdout",
     "output_type": "stream",
     "text": [
      "val_loss 35.898\n",
      "----------\n",
      "Epoch 29/100\n"
     ]
    },
    {
     "name": "stdout",
     "output_type": "stream",
     "text": [
      "train_loss 27.365\n"
     ]
    },
    {
     "name": "stdout",
     "output_type": "stream",
     "text": [
      "val_loss 47.919\n",
      "----------\n",
      "Epoch 30/100\n"
     ]
    },
    {
     "name": "stdout",
     "output_type": "stream",
     "text": [
      "train_loss 47.552\n"
     ]
    },
    {
     "name": "stdout",
     "output_type": "stream",
     "text": [
      "val_loss 230.141\n",
      "----------\n",
      "Epoch 31/100\n"
     ]
    },
    {
     "name": "stdout",
     "output_type": "stream",
     "text": [
      "train_loss 43.176\n"
     ]
    },
    {
     "name": "stdout",
     "output_type": "stream",
     "text": [
      "val_loss 130.292\n",
      "----------\n",
      "Epoch 32/100\n"
     ]
    },
    {
     "name": "stdout",
     "output_type": "stream",
     "text": [
      "train_loss 37.129\n"
     ]
    },
    {
     "name": "stdout",
     "output_type": "stream",
     "text": [
      "val_loss 48.955\n",
      "----------\n",
      "Epoch 33/100\n"
     ]
    },
    {
     "name": "stdout",
     "output_type": "stream",
     "text": [
      "train_loss 41.779\n"
     ]
    },
    {
     "name": "stdout",
     "output_type": "stream",
     "text": [
      "val_loss 59.145\n",
      "----------\n",
      "Epoch 34/100\n"
     ]
    },
    {
     "name": "stdout",
     "output_type": "stream",
     "text": [
      "train_loss 34.781\n"
     ]
    },
    {
     "name": "stdout",
     "output_type": "stream",
     "text": [
      "val_loss 48.821\n",
      "----------\n",
      "Epoch 35/100\n"
     ]
    },
    {
     "name": "stdout",
     "output_type": "stream",
     "text": [
      "train_loss 31.678\n"
     ]
    },
    {
     "name": "stdout",
     "output_type": "stream",
     "text": [
      "val_loss 39.551\n",
      "----------\n",
      "Epoch 36/100\n"
     ]
    },
    {
     "name": "stdout",
     "output_type": "stream",
     "text": [
      "train_loss 28.861\n"
     ]
    },
    {
     "name": "stdout",
     "output_type": "stream",
     "text": [
      "val_loss 46.791\n",
      "----------\n",
      "Epoch 37/100\n"
     ]
    },
    {
     "name": "stdout",
     "output_type": "stream",
     "text": [
      "train_loss 33.127\n"
     ]
    },
    {
     "name": "stdout",
     "output_type": "stream",
     "text": [
      "val_loss 42.619\n",
      "----------\n",
      "Epoch 38/100\n"
     ]
    },
    {
     "name": "stdout",
     "output_type": "stream",
     "text": [
      "train_loss 30.148\n"
     ]
    },
    {
     "name": "stdout",
     "output_type": "stream",
     "text": [
      "val_loss 41.022\n",
      "----------\n",
      "Epoch 39/100\n"
     ]
    },
    {
     "name": "stdout",
     "output_type": "stream",
     "text": [
      "train_loss 30.818\n"
     ]
    },
    {
     "name": "stdout",
     "output_type": "stream",
     "text": [
      "val_loss 59.661\n",
      "----------\n",
      "Epoch 40/100\n"
     ]
    },
    {
     "name": "stdout",
     "output_type": "stream",
     "text": [
      "train_loss 33.192\n"
     ]
    },
    {
     "name": "stdout",
     "output_type": "stream",
     "text": [
      "val_loss 48.604\n",
      "----------\n",
      "Epoch 41/100\n"
     ]
    },
    {
     "name": "stdout",
     "output_type": "stream",
     "text": [
      "train_loss 29.988\n"
     ]
    },
    {
     "name": "stdout",
     "output_type": "stream",
     "text": [
      "val_loss 46.631\n",
      "----------\n",
      "Epoch 42/100\n"
     ]
    },
    {
     "name": "stdout",
     "output_type": "stream",
     "text": [
      "train_loss 26.955\n"
     ]
    },
    {
     "name": "stdout",
     "output_type": "stream",
     "text": [
      "val_loss 52.661\n",
      "----------\n",
      "Epoch 43/100\n"
     ]
    },
    {
     "name": "stdout",
     "output_type": "stream",
     "text": [
      "train_loss 29.104\n"
     ]
    },
    {
     "name": "stdout",
     "output_type": "stream",
     "text": [
      "val_loss 50.107\n",
      "----------\n",
      "Epoch 44/100\n"
     ]
    },
    {
     "name": "stdout",
     "output_type": "stream",
     "text": [
      "train_loss 25.286\n"
     ]
    },
    {
     "name": "stdout",
     "output_type": "stream",
     "text": [
      "val_loss 32.195\n",
      "----------\n",
      "Epoch 45/100\n"
     ]
    },
    {
     "name": "stdout",
     "output_type": "stream",
     "text": [
      "train_loss 25.773\n"
     ]
    },
    {
     "name": "stdout",
     "output_type": "stream",
     "text": [
      "val_loss 38.811\n",
      "----------\n",
      "Epoch 46/100\n"
     ]
    },
    {
     "name": "stdout",
     "output_type": "stream",
     "text": [
      "train_loss 23.083\n"
     ]
    },
    {
     "name": "stdout",
     "output_type": "stream",
     "text": [
      "val_loss 39.393\n",
      "----------\n",
      "Epoch 47/100\n"
     ]
    },
    {
     "name": "stdout",
     "output_type": "stream",
     "text": [
      "train_loss 27.122\n"
     ]
    },
    {
     "name": "stdout",
     "output_type": "stream",
     "text": [
      "val_loss 35.947\n",
      "----------\n",
      "Epoch 48/100\n"
     ]
    },
    {
     "name": "stdout",
     "output_type": "stream",
     "text": [
      "train_loss 21.336\n"
     ]
    },
    {
     "name": "stdout",
     "output_type": "stream",
     "text": [
      "val_loss 37.855\n",
      "----------\n",
      "Epoch 49/100\n"
     ]
    },
    {
     "name": "stdout",
     "output_type": "stream",
     "text": [
      "train_loss 21.077\n"
     ]
    },
    {
     "name": "stdout",
     "output_type": "stream",
     "text": [
      "val_loss 37.397\n",
      "----------\n",
      "Epoch 50/100\n"
     ]
    },
    {
     "name": "stdout",
     "output_type": "stream",
     "text": [
      "train_loss 19.956\n"
     ]
    },
    {
     "name": "stdout",
     "output_type": "stream",
     "text": [
      "val_loss 39.431\n",
      "----------\n",
      "Epoch 51/100\n"
     ]
    },
    {
     "name": "stdout",
     "output_type": "stream",
     "text": [
      "train_loss 19.002\n"
     ]
    },
    {
     "name": "stdout",
     "output_type": "stream",
     "text": [
      "val_loss 40.403\n",
      "----------\n",
      "Epoch 52/100\n"
     ]
    },
    {
     "name": "stdout",
     "output_type": "stream",
     "text": [
      "train_loss 19.284\n"
     ]
    },
    {
     "name": "stdout",
     "output_type": "stream",
     "text": [
      "val_loss 39.161\n",
      "----------\n",
      "Epoch 53/100\n"
     ]
    },
    {
     "name": "stdout",
     "output_type": "stream",
     "text": [
      "train_loss 18.296\n"
     ]
    },
    {
     "name": "stdout",
     "output_type": "stream",
     "text": [
      "val_loss 36.387\n",
      "----------\n",
      "Epoch 54/100\n"
     ]
    },
    {
     "name": "stdout",
     "output_type": "stream",
     "text": [
      "train_loss 19.129\n"
     ]
    },
    {
     "name": "stdout",
     "output_type": "stream",
     "text": [
      "val_loss 42.861\n",
      "----------\n",
      "Epoch 55/100\n"
     ]
    },
    {
     "name": "stdout",
     "output_type": "stream",
     "text": [
      "train_loss 25.006\n"
     ]
    },
    {
     "name": "stdout",
     "output_type": "stream",
     "text": [
      "val_loss 43.689\n",
      "----------\n",
      "Epoch 56/100\n"
     ]
    },
    {
     "name": "stdout",
     "output_type": "stream",
     "text": [
      "train_loss 23.403\n"
     ]
    },
    {
     "name": "stdout",
     "output_type": "stream",
     "text": [
      "val_loss 39.145\n",
      "----------\n",
      "Epoch 57/100\n"
     ]
    },
    {
     "name": "stdout",
     "output_type": "stream",
     "text": [
      "train_loss 20.817\n"
     ]
    },
    {
     "name": "stdout",
     "output_type": "stream",
     "text": [
      "val_loss 36.940\n",
      "----------\n",
      "Epoch 58/100\n"
     ]
    },
    {
     "name": "stdout",
     "output_type": "stream",
     "text": [
      "train_loss 22.451\n"
     ]
    },
    {
     "name": "stdout",
     "output_type": "stream",
     "text": [
      "val_loss 42.652\n",
      "----------\n",
      "Epoch 59/100\n"
     ]
    },
    {
     "name": "stdout",
     "output_type": "stream",
     "text": [
      "train_loss 23.122\n"
     ]
    },
    {
     "name": "stdout",
     "output_type": "stream",
     "text": [
      "val_loss 42.073\n",
      "----------\n",
      "Epoch 60/100\n"
     ]
    },
    {
     "name": "stdout",
     "output_type": "stream",
     "text": [
      "train_loss 20.030\n"
     ]
    },
    {
     "name": "stdout",
     "output_type": "stream",
     "text": [
      "val_loss 38.719\n",
      "----------\n",
      "Epoch 61/100\n"
     ]
    },
    {
     "name": "stdout",
     "output_type": "stream",
     "text": [
      "train_loss 18.654\n"
     ]
    },
    {
     "name": "stdout",
     "output_type": "stream",
     "text": [
      "val_loss 38.994\n",
      "----------\n",
      "Epoch 62/100\n"
     ]
    },
    {
     "name": "stdout",
     "output_type": "stream",
     "text": [
      "train_loss 17.383\n"
     ]
    },
    {
     "name": "stdout",
     "output_type": "stream",
     "text": [
      "val_loss 34.729\n",
      "----------\n",
      "Epoch 63/100\n"
     ]
    },
    {
     "name": "stdout",
     "output_type": "stream",
     "text": [
      "train_loss 18.220\n"
     ]
    },
    {
     "name": "stdout",
     "output_type": "stream",
     "text": [
      "val_loss 44.262\n",
      "----------\n",
      "Epoch 64/100\n"
     ]
    },
    {
     "name": "stdout",
     "output_type": "stream",
     "text": [
      "train_loss 27.146\n"
     ]
    },
    {
     "name": "stdout",
     "output_type": "stream",
     "text": [
      "val_loss 42.658\n",
      "----------\n",
      "Epoch 65/100\n"
     ]
    },
    {
     "name": "stdout",
     "output_type": "stream",
     "text": [
      "train_loss 26.676\n"
     ]
    },
    {
     "name": "stdout",
     "output_type": "stream",
     "text": [
      "val_loss 38.984\n",
      "----------\n",
      "Epoch 66/100\n"
     ]
    },
    {
     "name": "stdout",
     "output_type": "stream",
     "text": [
      "train_loss 24.904\n"
     ]
    },
    {
     "name": "stdout",
     "output_type": "stream",
     "text": [
      "val_loss 39.812\n",
      "----------\n",
      "Epoch 67/100\n"
     ]
    },
    {
     "name": "stdout",
     "output_type": "stream",
     "text": [
      "train_loss 20.390\n"
     ]
    },
    {
     "name": "stdout",
     "output_type": "stream",
     "text": [
      "val_loss 46.750\n",
      "----------\n",
      "Epoch 68/100\n"
     ]
    },
    {
     "name": "stdout",
     "output_type": "stream",
     "text": [
      "train_loss 18.358\n"
     ]
    },
    {
     "name": "stdout",
     "output_type": "stream",
     "text": [
      "val_loss 35.310\n",
      "----------\n",
      "Epoch 69/100\n"
     ]
    },
    {
     "name": "stdout",
     "output_type": "stream",
     "text": [
      "train_loss 16.619\n"
     ]
    },
    {
     "name": "stdout",
     "output_type": "stream",
     "text": [
      "val_loss 35.494\n",
      "----------\n",
      "Epoch 70/100\n"
     ]
    },
    {
     "name": "stdout",
     "output_type": "stream",
     "text": [
      "train_loss 16.131\n"
     ]
    },
    {
     "name": "stdout",
     "output_type": "stream",
     "text": [
      "val_loss 40.548\n",
      "----------\n",
      "Epoch 71/100\n"
     ]
    },
    {
     "name": "stdout",
     "output_type": "stream",
     "text": [
      "train_loss 16.015\n"
     ]
    },
    {
     "name": "stdout",
     "output_type": "stream",
     "text": [
      "val_loss 37.982\n",
      "----------\n",
      "Epoch 72/100\n"
     ]
    },
    {
     "name": "stdout",
     "output_type": "stream",
     "text": [
      "train_loss 15.695\n"
     ]
    },
    {
     "name": "stdout",
     "output_type": "stream",
     "text": [
      "val_loss 39.870\n",
      "----------\n",
      "Epoch 73/100\n"
     ]
    },
    {
     "name": "stdout",
     "output_type": "stream",
     "text": [
      "train_loss 16.171\n"
     ]
    },
    {
     "name": "stdout",
     "output_type": "stream",
     "text": [
      "val_loss 36.461\n",
      "----------\n",
      "Epoch 74/100\n"
     ]
    },
    {
     "name": "stdout",
     "output_type": "stream",
     "text": [
      "train_loss 17.318\n"
     ]
    },
    {
     "name": "stdout",
     "output_type": "stream",
     "text": [
      "val_loss 37.090\n",
      "----------\n",
      "Epoch 75/100\n"
     ]
    },
    {
     "name": "stdout",
     "output_type": "stream",
     "text": [
      "train_loss 15.567\n"
     ]
    },
    {
     "name": "stdout",
     "output_type": "stream",
     "text": [
      "val_loss 43.290\n",
      "----------\n",
      "Epoch 76/100\n"
     ]
    },
    {
     "name": "stdout",
     "output_type": "stream",
     "text": [
      "train_loss 13.912\n"
     ]
    },
    {
     "name": "stdout",
     "output_type": "stream",
     "text": [
      "val_loss 35.265\n",
      "----------\n",
      "Epoch 77/100\n"
     ]
    },
    {
     "name": "stdout",
     "output_type": "stream",
     "text": [
      "train_loss 16.912\n"
     ]
    },
    {
     "name": "stdout",
     "output_type": "stream",
     "text": [
      "val_loss 49.183\n",
      "----------\n",
      "Epoch 78/100\n"
     ]
    },
    {
     "name": "stdout",
     "output_type": "stream",
     "text": [
      "train_loss 34.202\n"
     ]
    },
    {
     "name": "stdout",
     "output_type": "stream",
     "text": [
      "val_loss 45.218\n",
      "----------\n",
      "Epoch 79/100\n"
     ]
    },
    {
     "name": "stdout",
     "output_type": "stream",
     "text": [
      "train_loss 23.176\n"
     ]
    },
    {
     "name": "stdout",
     "output_type": "stream",
     "text": [
      "val_loss 36.099\n",
      "----------\n",
      "Epoch 80/100\n"
     ]
    },
    {
     "name": "stdout",
     "output_type": "stream",
     "text": [
      "train_loss 20.159\n"
     ]
    },
    {
     "name": "stdout",
     "output_type": "stream",
     "text": [
      "val_loss 38.815\n",
      "----------\n",
      "Epoch 81/100\n"
     ]
    },
    {
     "name": "stdout",
     "output_type": "stream",
     "text": [
      "train_loss 19.491\n"
     ]
    },
    {
     "name": "stdout",
     "output_type": "stream",
     "text": [
      "val_loss 36.635\n",
      "----------\n",
      "Epoch 82/100\n"
     ]
    },
    {
     "name": "stdout",
     "output_type": "stream",
     "text": [
      "train_loss 15.878\n"
     ]
    },
    {
     "name": "stdout",
     "output_type": "stream",
     "text": [
      "val_loss 37.443\n",
      "----------\n",
      "Epoch 83/100\n"
     ]
    },
    {
     "name": "stdout",
     "output_type": "stream",
     "text": [
      "train_loss 13.615\n"
     ]
    },
    {
     "name": "stdout",
     "output_type": "stream",
     "text": [
      "val_loss 38.302\n",
      "----------\n",
      "Epoch 84/100\n"
     ]
    },
    {
     "name": "stdout",
     "output_type": "stream",
     "text": [
      "train_loss 13.815\n"
     ]
    },
    {
     "name": "stdout",
     "output_type": "stream",
     "text": [
      "val_loss 42.071\n",
      "----------\n",
      "Epoch 85/100\n"
     ]
    },
    {
     "name": "stdout",
     "output_type": "stream",
     "text": [
      "train_loss 13.371\n"
     ]
    },
    {
     "name": "stdout",
     "output_type": "stream",
     "text": [
      "val_loss 35.994\n",
      "----------\n",
      "Epoch 86/100\n"
     ]
    },
    {
     "name": "stdout",
     "output_type": "stream",
     "text": [
      "train_loss 12.518\n"
     ]
    },
    {
     "name": "stdout",
     "output_type": "stream",
     "text": [
      "val_loss 28.706\n",
      "----------\n",
      "Epoch 87/100\n"
     ]
    },
    {
     "name": "stdout",
     "output_type": "stream",
     "text": [
      "train_loss 14.845\n"
     ]
    },
    {
     "name": "stdout",
     "output_type": "stream",
     "text": [
      "val_loss 38.151\n",
      "----------\n",
      "Epoch 88/100\n"
     ]
    },
    {
     "name": "stdout",
     "output_type": "stream",
     "text": [
      "train_loss 13.753\n"
     ]
    },
    {
     "name": "stdout",
     "output_type": "stream",
     "text": [
      "val_loss 43.318\n",
      "----------\n",
      "Epoch 89/100\n"
     ]
    },
    {
     "name": "stdout",
     "output_type": "stream",
     "text": [
      "train_loss 15.304\n"
     ]
    },
    {
     "name": "stdout",
     "output_type": "stream",
     "text": [
      "val_loss 33.197\n",
      "----------\n",
      "Epoch 90/100\n"
     ]
    },
    {
     "name": "stdout",
     "output_type": "stream",
     "text": [
      "train_loss 12.667\n"
     ]
    },
    {
     "name": "stdout",
     "output_type": "stream",
     "text": [
      "val_loss 31.860\n",
      "----------\n",
      "Epoch 91/100\n"
     ]
    },
    {
     "name": "stdout",
     "output_type": "stream",
     "text": [
      "train_loss 12.679\n"
     ]
    },
    {
     "name": "stdout",
     "output_type": "stream",
     "text": [
      "val_loss 29.909\n",
      "----------\n",
      "Epoch 92/100\n"
     ]
    },
    {
     "name": "stdout",
     "output_type": "stream",
     "text": [
      "train_loss 12.918\n"
     ]
    },
    {
     "name": "stdout",
     "output_type": "stream",
     "text": [
      "val_loss 32.921\n",
      "----------\n",
      "Epoch 93/100\n"
     ]
    },
    {
     "name": "stdout",
     "output_type": "stream",
     "text": [
      "train_loss 12.050\n"
     ]
    },
    {
     "name": "stdout",
     "output_type": "stream",
     "text": [
      "val_loss 33.495\n",
      "----------\n",
      "Epoch 94/100\n"
     ]
    },
    {
     "name": "stdout",
     "output_type": "stream",
     "text": [
      "train_loss 13.318\n"
     ]
    },
    {
     "name": "stdout",
     "output_type": "stream",
     "text": [
      "val_loss 40.781\n",
      "----------\n",
      "Epoch 95/100\n"
     ]
    },
    {
     "name": "stdout",
     "output_type": "stream",
     "text": [
      "train_loss 11.925\n"
     ]
    },
    {
     "name": "stdout",
     "output_type": "stream",
     "text": [
      "val_loss 37.829\n",
      "----------\n",
      "Epoch 96/100\n"
     ]
    },
    {
     "name": "stdout",
     "output_type": "stream",
     "text": [
      "train_loss 12.422\n"
     ]
    },
    {
     "name": "stdout",
     "output_type": "stream",
     "text": [
      "val_loss 39.243\n",
      "----------\n",
      "Epoch 97/100\n"
     ]
    },
    {
     "name": "stdout",
     "output_type": "stream",
     "text": [
      "train_loss 13.747\n"
     ]
    },
    {
     "name": "stdout",
     "output_type": "stream",
     "text": [
      "val_loss 40.914\n",
      "----------\n",
      "Epoch 98/100\n"
     ]
    },
    {
     "name": "stdout",
     "output_type": "stream",
     "text": [
      "train_loss 12.955\n"
     ]
    },
    {
     "name": "stdout",
     "output_type": "stream",
     "text": [
      "val_loss 31.828\n",
      "----------\n",
      "Epoch 99/100\n"
     ]
    },
    {
     "name": "stdout",
     "output_type": "stream",
     "text": [
      "train_loss 11.395\n"
     ]
    },
    {
     "name": "stdout",
     "output_type": "stream",
     "text": [
      "val_loss 30.552\n",
      "----------\n",
      "Epoch 100/100\n"
     ]
    },
    {
     "name": "stdout",
     "output_type": "stream",
     "text": [
      "train_loss 10.366\n"
     ]
    },
    {
     "name": "stdout",
     "output_type": "stream",
     "text": [
      "val_loss 32.778\n",
      "----------\n"
     ]
    }
   ],
   "source": [
    "# Load a pretrained ResNet18 model\n",
    "model = models.resnet18(pretrained=True)\n",
    "\n",
    "# Get the number of features of the last fully connected layer\n",
    "total_features = model.fc.in_features\n",
    "\n",
    "# Replace this final layer with a fully connected layer that outputs four neurons [x1, y1, x2, y2]\n",
    "model.fc = nn.Sequential(nn.Linear(total_features, 4))\n",
    "\n",
    "# Link model to device\n",
    "model.to(device)\n",
    "\n",
    "# Set optimizer\n",
    "optimizer = torch.optim.Adam(model.parameters(), lr=learning_rate)\n",
    "\n",
    "# Train model\n",
    "loss, model, results = train_model(model, optimizer, dataloaders, device, epochs=epochs)"
   ]
  },
  {
   "cell_type": "markdown",
   "metadata": {},
   "source": [
    "After training the network, the model is saved locally for later validation. "
   ]
  },
  {
   "cell_type": "code",
   "execution_count": 11,
   "metadata": {},
   "outputs": [],
   "source": [
    "# Model name\n",
    "model_name = \"model_\" + str(learning_rate) + \"-\" + str(batch_size) + '-' + str(augmentation) + '-' + str(epochs)\n",
    "\n",
    "# Save model\n",
    "torch.save(model, '../models/' + model_name + '.pt')"
   ]
  },
  {
   "cell_type": "markdown",
   "metadata": {},
   "source": [
    "The learning curves (training and validation losses is function of the number of epochs) are visualized."
   ]
  },
  {
   "cell_type": "code",
   "execution_count": 12,
   "metadata": {},
   "outputs": [
    {
     "data": {
      "text/plain": [
       "<matplotlib.legend.Legend at 0x25c2e3a92b0>"
      ]
     },
     "execution_count": 12,
     "metadata": {},
     "output_type": "execute_result"
    },
    {
     "data": {
      "image/png": "[encoded data removed]",
      "text/plain": [
       "<Figure size 640x480 with 1 Axes>"
      ]
     },
     "metadata": {},
     "output_type": "display_data"
    }
   ],
   "source": [
    "# Plot learning curves\n",
    "fig = plt.figure(1)\n",
    "mask = [i for i in range(len(results['validation_loss'])) if results['validation_loss'][i] < 1000]\n",
    "results['training_loss'] = [results['training_loss'][i] for i in mask]\n",
    "results['validation_loss'] = [results['validation_loss'][i] for i in mask]\n",
    "plt.plot(range(1, len(mask)+1), results['training_loss'], 'b-', markersize=1, label='train')\n",
    "plt.plot(range(1, len(mask)+1), results['validation_loss'], 'r-', markersize=1, label='valid')\n",
    "plt.title('Learning curves')\n",
    "plt.xlabel('Number of epochs')\n",
    "plt.ylabel('RMSE-loss + cosine similarity loss')\n",
    "plt.legend()"
   ]
  }
 ],
 "metadata": {
  "kernelspec": {
   "display_name": "Python 3",
   "language": "python",
   "name": "python3"
  },
  "language_info": {
   "codemirror_mode": {
    "name": "ipython",
    "version": 3
   },
   "file_extension": ".py",
   "mimetype": "text/x-python",
   "name": "python",
   "nbconvert_exporter": "python",
   "pygments_lexer": "ipython3",
   "version": "3.9.0"
  }
 },
 "nbformat": 4,
 "nbformat_minor": 2
}