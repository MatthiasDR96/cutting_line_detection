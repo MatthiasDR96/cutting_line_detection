{
 "cells": [
  {
   "cell_type": "markdown",
   "metadata": {},
   "source": [
    "# Model training\n",
    "\n",
    "This script trains a neural network based on a pretrained ResNet18 neural net on the training data and outputs the results in the form of learning curves. "
   ]
  },
  {
   "cell_type": "code",
   "execution_count": 1,
   "metadata": {},
   "outputs": [
    {
     "name": "stderr",
     "output_type": "stream",
     "text": [
      "c:\\python39\\lib\\site-packages\\tqdm\\auto.py:21: TqdmWarning: IProgress not found. Please update jupyter and ipywidgets. See https://ipywidgets.readthedocs.io/en/stable/user_install.html\n",
      "  from .autonotebook import tqdm as notebook_tqdm\n"
     ]
    }
   ],
   "source": [
    "# Imports\n",
    "import cv2\n",
    "import math\n",
    "import torch\n",
    "import numpy as np\n",
    "import pandas as pd\n",
    "import torch.nn as nn\n",
    "import albumentations as A\n",
    "from torchvision import models\n",
    "import matplotlib.pyplot as plt\n",
    "import torch.nn.functional as F\n",
    "from torch.utils.data import Dataset\n",
    "from torch.utils.data import DataLoader\n",
    "from albumentations.pytorch import ToTensorV2"
   ]
  },
  {
   "cell_type": "code",
   "execution_count": 2,
   "metadata": {},
   "outputs": [],
   "source": [
    "# Check if there is a graphical card (CUDA) available on the PC\n",
    "device = torch.device(\"cuda:\" + str(torch.cuda.current_device()) if torch.cuda.is_available() else \"cpu\")"
   ]
  },
  {
   "cell_type": "code",
   "execution_count": 3,
   "metadata": {},
   "outputs": [],
   "source": [
    "# Set training parameters\n",
    "epochs = 10\n",
    "learning_rate = 0.01\n",
    "batch_size = 16\n",
    "augmentation = 0"
   ]
  },
  {
   "cell_type": "code",
   "execution_count": 4,
   "metadata": {},
   "outputs": [],
   "source": [
    "# This class impements the Dataset\n",
    "class Dataset(Dataset):\n",
    "\n",
    "\tdef __init__(self, paths, transform=False):\n",
    "\t\tself.paths = paths\n",
    "\t\tself.transform = transform\n",
    "\n",
    "\tdef __len__(self):\n",
    "\t\treturn len(self.paths)\n",
    "\n",
    "\tdef __getitem__(self, idx):\n",
    "\n",
    "\t\t# Retrieve data sample\n",
    "\t\timg_path = self.paths[idx]\n",
    "\n",
    "\t\t# Read image and convert to RGB space\n",
    "\t\timage = cv2.imread(img_path) \n",
    "\t\timage = cv2.cvtColor(image, cv2.COLOR_BGR2RGB)\n",
    "\n",
    "\t\t# Get label\n",
    "\t\tkey = img_path.split('\\\\')[-1].split('.')[0]\n",
    "\t\tlabel_file = open(\"../data/labels/\" + key + \".txt\", \"r\")\n",
    "\t\tlabeldata = label_file.read().split(\" \")\n",
    "\n",
    "\t\t# Get keypoints\n",
    "\t\tkeypoints = [(float(labeldata[4]), float(labeldata[5])), (float(labeldata[6]), float(labeldata[7]))]\n",
    "\n",
    "\t\t# Define augmentation pipeline\n",
    "\t\tif self.transform:\n",
    "\t\t\ttransform = A.Compose([\n",
    "\t\t\t\tA.AdvancedBlur(),\n",
    "\t\t\t\tA.RandomGravel(),\n",
    "\t\t\t\tA.ISONoise(),\n",
    "\t\t\t\tA.RandomRotate90(p=0.5),\n",
    "\t\t\t\tA.HorizontalFlip(p=0.2),\n",
    "\t\t\t\tA.RandomBrightnessContrast(p=0.5),\n",
    "\t\t\t\tA.Resize(224, 224),\n",
    "\t\t\t\tA.Normalize(mean=[0.485, 0.456, 0.406], std=[0.229, 0.224, 0.225]),\n",
    "\t\t\t\tToTensorV2(),\n",
    "\t\t\t], keypoint_params=A.KeypointParams(format='xy', remove_invisible=True))\n",
    "\t\telse:\n",
    "\t\t\ttransform = A.Compose([\n",
    "\t\t\t\tA.Resize(224, 224),\n",
    "\t\t\t\tA.Normalize(mean=[0.485, 0.456, 0.406], std=[0.229, 0.224, 0.225]),\n",
    "\t\t\t\tToTensorV2(),\n",
    "\t\t\t], keypoint_params=A.KeypointParams(format='xy', remove_invisible=True))\n",
    "\t\t\n",
    "\t\t# Transform image and keypoints\n",
    "\t\ttransformed = transform(image=image, keypoints=keypoints)\n",
    "\t\ttransformed_image = transformed['image']\n",
    "\t\ttransformed_keypoints = transformed['keypoints']\n",
    "\n",
    "\t\t# Get target\n",
    "\t\ttarget = np.array([transformed_keypoints[0][0], transformed_keypoints[0][1], transformed_keypoints[1][0], transformed_keypoints[1][1]])\n",
    "\n",
    "\t\treturn transformed_image, target\n"
   ]
  },
  {
   "cell_type": "code",
   "execution_count": 5,
   "metadata": {},
   "outputs": [],
   "source": [
    "# Load csv files containing the image file paths\n",
    "df_train = pd.read_pickle('../data/train_data.csv')\n",
    "df_valid = pd.read_pickle('../data/valid_data.csv')\n",
    "\n",
    "# Create datasets using the dataset class that applies image transforms if the transform parameter is set to True\n",
    "train_ds = Dataset(df_train['path_names'], transform=augmentation)\n",
    "valid_ds = Dataset(df_valid['path_names'], transform=False) "
   ]
  },
  {
   "cell_type": "code",
   "execution_count": 6,
   "metadata": {},
   "outputs": [],
   "source": [
    "# Create data loaders that extract batches from the dataset with a certain batch size\n",
    "train_dl = DataLoader(train_ds, batch_size=batch_size, shuffle=False)\n",
    "valid_dl = DataLoader(valid_ds, batch_size=batch_size, shuffle=False)\n",
    "dataloaders = {'train': train_dl, 'valid': valid_dl}"
   ]
  },
  {
   "cell_type": "code",
   "execution_count": 7,
   "metadata": {},
   "outputs": [],
   "source": [
    "# Computes the error angle between the predicted and ground truth lines in degrees\n",
    "def loss_cos_fun(pred, y):\n",
    "\n",
    "\t# Get x and y differences between predicted points\n",
    "\tdelta_x_pred = pred[:,2]-pred[:,0]\n",
    "\tdelta_y_pred = pred[:,3]-pred[:,1]\n",
    "\n",
    "\t# Get x and y differences between ground truth points\n",
    "\tdelta_x_y = y[:,2]-y[:,0]\n",
    "\tdelta_y_y = y[:,3]-y[:,1]\n",
    "\n",
    "\t# Stack both into new tensors\n",
    "\ta = torch.stack((delta_x_pred, delta_y_pred), 1)\n",
    "\tb = torch.stack((delta_x_y, delta_y_y), 1)\n",
    "\n",
    "\t# Compute the sum of anle differences in degrees\n",
    "\tloss = torch.sum(torch.acos(F.cosine_similarity(a, b, dim=1)) * 180 / math.pi)\n",
    "\n",
    "\treturn loss"
   ]
  },
  {
   "cell_type": "code",
   "execution_count": 8,
   "metadata": {},
   "outputs": [],
   "source": [
    "# Computes the Euclidean distance between the first predicted point and the center of the ground truth points\n",
    "def loss_rmse_fun(pred, y):\n",
    "\n",
    "\t# Only get first xy point of prediction\n",
    "\txy1_pred = torch.stack((pred[:,0], pred[:,1]), 1) \n",
    "\n",
    "\t# Get center of two ground truth points\n",
    "\ty_centerx = (y[:,0] + y[:,2])/2\n",
    "\ty_centery = (y[:,1] + y[:,3])/2\n",
    "\ty_center = torch.stack((y_centerx, y_centery), 1)\n",
    "\n",
    "\t# Compute sum of Euclidean distances between first predicted point and center point\n",
    "\tloss = torch.sum(torch.sqrt(torch.sum((xy1_pred - y_center)**2, 1)))\n",
    "\n",
    "\treturn loss"
   ]
  },
  {
   "cell_type": "code",
   "execution_count": 9,
   "metadata": {},
   "outputs": [],
   "source": [
    "# This function implements the training and validation of the neural network\n",
    "def train_model(model, optimizer, dataloaders, device, epochs):\n",
    "\n",
    "\t# Learning curves\n",
    "\tresults = {\"training_loss\": [], \"validation_loss\": []}\n",
    "\n",
    "\t# Loop over epochs\n",
    "\tbest_model = model\n",
    "\tbest_loss = float('inf')\n",
    "\tfor epoch in range(epochs):\n",
    "\n",
    "\t\t# Debug\n",
    "\t\tprint(f'Epoch {epoch+1}/{epochs}')\n",
    "\n",
    "\t\t# Do a train and validation phase for each epoch\n",
    "\t\tfor phase in ['train', 'valid']:\n",
    "\n",
    "\t\t\t# Set state of model corresponding to phase\n",
    "\t\t\tif phase == 'train':\n",
    "\t\t\t\tmodel.train()  # Set model to training mode\n",
    "\t\t\telse:\n",
    "\t\t\t\tmodel.eval()   # Set model to evaluate mode\n",
    "\n",
    "\t\t\t# Reset loss over all batches and number of samples \n",
    "\t\t\trunning_loss = 0.0\n",
    "\t\t\tnum_samples = 0\n",
    "\n",
    "\t\t\t# Iterate over batches of inputs\n",
    "\t\t\tfor x, y in dataloaders[phase]:\n",
    "\n",
    "\t\t\t\t# Inputs shape\n",
    "\t\t\t\tbatch_size, *_ = x.shape\n",
    "\n",
    "\t\t\t\t# Convert input and outputs to CUDA\n",
    "\t\t\t\tx = x.to(device)\n",
    "\t\t\t\ty = y.to(device)\n",
    "\n",
    "\t\t\t\t# Predict line\n",
    "\t\t\t\tpred = model(x)\n",
    "\n",
    "\t\t\t\t# Compute total loss over batch\n",
    "\t\t\t\tloss_rmse_values = loss_rmse_fun(pred, y)\n",
    "\t\t\t\tloss_cos_values = loss_cos_fun(pred, y)\n",
    "\t\t\t\tloss = loss_rmse_values + loss_cos_values\n",
    "\n",
    "\t\t\t\t# Debug\n",
    "\t\t\t\t#debug(x, pred, y)\n",
    "\n",
    "\t\t\t\t# Sum losses of all batches\n",
    "\t\t\t\trunning_loss += loss.item()\n",
    "\n",
    "\t\t\t\t# Calculate total samples\n",
    "\t\t\t\tnum_samples += batch_size\n",
    "\n",
    "\t\t\t\t# When training\n",
    "\t\t\t\tif phase == 'train':\n",
    "\t\t\t\t\toptimizer.zero_grad() # Clear out gradients\n",
    "\t\t\t\t\tloss.backward() # Do backpropagation\n",
    "\t\t\t\t\toptimizer.step() # Step the optimizer\n",
    "\n",
    "\t\t\t# Compute total loss over the whole dataset (sum of loss of all samples divided by total number of samples)\n",
    "\t\t\tdataset_loss = running_loss/num_samples\n",
    "\n",
    "\t\t\t# Save results\n",
    "\t\t\tif phase == 'train':\n",
    "\t\t\t\tresults['training_loss'].append(dataset_loss)\n",
    "\t\t\t\tprint(\"train_loss %.3f\" % (dataset_loss))\n",
    "\t\t\telif phase == 'valid':\n",
    "\t\t\t\tresults['validation_loss'].append(dataset_loss)\n",
    "\t\t\t\tprint(\"val_loss %.3f\" % (dataset_loss))\n",
    "\n",
    "\t\t\t# Save model\n",
    "\t\t\tif phase == 'valid' and dataset_loss < best_loss:\n",
    "\t\t\t\tbest_model = model\n",
    "\t\t\t\tbest_loss = dataset_loss\n",
    "\n",
    "\t\t# Debug\n",
    "\t\tprint('-' * 10)\n",
    "\n",
    "\treturn best_loss, best_model, results"
   ]
  },
  {
   "cell_type": "code",
   "execution_count": 10,
   "metadata": {},
   "outputs": [
    {
     "name": "stdout",
     "output_type": "stream",
     "text": [
      "Epoch 1/10\n"
     ]
    },
    {
     "name": "stdout",
     "output_type": "stream",
     "text": [
      "train_loss 236.263\n"
     ]
    },
    {
     "name": "stdout",
     "output_type": "stream",
     "text": [
      "val_loss 1906812.637\n",
      "----------\n",
      "Epoch 2/10\n"
     ]
    },
    {
     "name": "stdout",
     "output_type": "stream",
     "text": [
      "train_loss 235.720\n"
     ]
    },
    {
     "name": "stdout",
     "output_type": "stream",
     "text": [
      "val_loss 1966.451\n",
      "----------\n",
      "Epoch 3/10\n"
     ]
    },
    {
     "name": "stdout",
     "output_type": "stream",
     "text": [
      "train_loss 232.222\n"
     ]
    },
    {
     "name": "stdout",
     "output_type": "stream",
     "text": [
      "val_loss 299.996\n",
      "----------\n",
      "Epoch 4/10\n"
     ]
    },
    {
     "name": "stdout",
     "output_type": "stream",
     "text": [
      "train_loss 225.737\n"
     ]
    },
    {
     "name": "stdout",
     "output_type": "stream",
     "text": [
      "val_loss 224.199\n",
      "----------\n",
      "Epoch 5/10\n"
     ]
    },
    {
     "name": "stdout",
     "output_type": "stream",
     "text": [
      "train_loss 214.425\n"
     ]
    },
    {
     "name": "stdout",
     "output_type": "stream",
     "text": [
      "val_loss 198.576\n",
      "----------\n",
      "Epoch 6/10\n"
     ]
    },
    {
     "name": "stdout",
     "output_type": "stream",
     "text": [
      "train_loss 197.297\n"
     ]
    },
    {
     "name": "stdout",
     "output_type": "stream",
     "text": [
      "val_loss 200.321\n",
      "----------\n",
      "Epoch 7/10\n"
     ]
    },
    {
     "name": "stdout",
     "output_type": "stream",
     "text": [
      "train_loss 187.598\n"
     ]
    },
    {
     "name": "stdout",
     "output_type": "stream",
     "text": [
      "val_loss 161.816\n",
      "----------\n",
      "Epoch 8/10\n"
     ]
    },
    {
     "name": "stdout",
     "output_type": "stream",
     "text": [
      "train_loss 182.568\n"
     ]
    },
    {
     "name": "stdout",
     "output_type": "stream",
     "text": [
      "val_loss 143.976\n",
      "----------\n",
      "Epoch 9/10\n"
     ]
    },
    {
     "name": "stdout",
     "output_type": "stream",
     "text": [
      "train_loss 166.321\n"
     ]
    },
    {
     "name": "stdout",
     "output_type": "stream",
     "text": [
      "val_loss 152.618\n",
      "----------\n",
      "Epoch 10/10\n"
     ]
    },
    {
     "name": "stdout",
     "output_type": "stream",
     "text": [
      "train_loss 158.848\n"
     ]
    },
    {
     "name": "stdout",
     "output_type": "stream",
     "text": [
      "val_loss 458.876\n",
      "----------\n"
     ]
    }
   ],
   "source": [
    "# Load a pretrained ResNet18 model\n",
    "model = models.resnet18(pretrained=True)\n",
    "\n",
    "# Get the number of features of the last fully connected layer\n",
    "total_features = model.fc.in_features\n",
    "\n",
    "# Replace this final layer with a fully connected layer that outputs four neurons [x1, y1, x2, y2]\n",
    "model.fc = nn.Sequential(nn.Linear(total_features, 4))\n",
    "\n",
    "# Link model to device\n",
    "model.to(device)\n",
    "\n",
    "# Set optimizer\n",
    "optimizer = torch.optim.Adam(model.parameters(), lr=learning_rate)\n",
    "\n",
    "# Train model\n",
    "loss, model, results = train_model(model, optimizer, dataloaders, device, epochs=epochs)"
   ]
  },
  {
   "cell_type": "code",
   "execution_count": 11,
   "metadata": {},
   "outputs": [],
   "source": [
    "# Model name\n",
    "model_name = \"model_\" + str(learning_rate) + \"-\" + str(batch_size) + '-' + str(augmentation) + '-' + str(epochs)\n",
    "\n",
    "# Save model\n",
    "torch.save(model, '../models/' + model_name + '.pt')"
   ]
  },
  {
   "cell_type": "code",
   "execution_count": 12,
   "metadata": {},
   "outputs": [
    {
     "data": {
      "text/plain": [
       "<matplotlib.legend.Legend at 0x1710aab79a0>"
      ]
     },
     "execution_count": 12,
     "metadata": {},
     "output_type": "execute_result"
    },
    {
     "data": {
      "image/png": "[encoded data removed]",
      "text/plain": [
       "<Figure size 640x480 with 1 Axes>"
      ]
     },
     "metadata": {},
     "output_type": "display_data"
    }
   ],
   "source": [
    "# Plot learning curves\n",
    "fig = plt.figure(1)\n",
    "mask = [i for i in range(len(results['validation_loss'])) if results['validation_loss'][i] < 1000]\n",
    "results['training_loss'] = [results['training_loss'][i] for i in mask]\n",
    "results['validation_loss'] = [results['validation_loss'][i] for i in mask]\n",
    "plt.plot(range(1, len(mask)+1), results['training_loss'], 'b-', markersize=1, label='train')\n",
    "plt.plot(range(1, len(mask)+1), results['validation_loss'], 'r-', markersize=1, label='valid')\n",
    "plt.title('Learning curves')\n",
    "plt.xlabel('Number of epochs')\n",
    "plt.ylabel('RMSE-loss + cosine similarity loss')\n",
    "plt.legend()"
   ]
  }
 ],
 "metadata": {
  "kernelspec": {
   "display_name": "Python 3",
   "language": "python",
   "name": "python3"
  },
  "language_info": {
   "codemirror_mode": {
    "name": "ipython",
    "version": 3
   },
   "file_extension": ".py",
   "mimetype": "text/x-python",
   "name": "python",
   "nbconvert_exporter": "python",
   "pygments_lexer": "ipython3",
   "version": "3.9.0"
  }
 },
 "nbformat": 4,
 "nbformat_minor": 2
}