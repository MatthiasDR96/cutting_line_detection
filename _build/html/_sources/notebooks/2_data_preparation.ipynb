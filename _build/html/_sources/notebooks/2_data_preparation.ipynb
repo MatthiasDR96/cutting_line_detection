{
 "cells": [
  {
   "cell_type": "markdown",
   "metadata": {},
   "source": [
    "# Data preparation\n",
    "\n",
    "This script splits the dataset into a training (70%), validation (15%), and test set (15%) and saves all sets as a csv-file including the filepaths to the images. "
   ]
  },
  {
   "cell_type": "code",
   "execution_count": 20,
   "metadata": {},
   "outputs": [],
   "source": [
    "# Imports\n",
    "import glob\n",
    "import random\n",
    "import pandas as pd"
   ]
  },
  {
   "cell_type": "code",
   "execution_count": 21,
   "metadata": {},
   "outputs": [],
   "source": [
    "# Get all file paths\n",
    "image_paths = glob.glob('../data/images/*jpg') \n",
    "\n",
    "# Shuffle image paths to prevent repetition in the data\n",
    "random.shuffle(image_paths)"
   ]
  },
  {
   "cell_type": "code",
   "execution_count": 22,
   "metadata": {},
   "outputs": [],
   "source": [
    "# Split train an val (70/30)\n",
    "train_image_paths = image_paths[:int(0.7*len(image_paths))]\n",
    "valid_image_paths = image_paths[int(0.7*len(image_paths)):] \n",
    "\n",
    "# Split valid futher in val and test (50/50)\n",
    "valid_image_paths_ = valid_image_paths[:int(0.5*len(valid_image_paths))]\n",
    "test_image_paths = valid_image_paths[int(0.5*len(valid_image_paths)):]"
   ]
  },
  {
   "cell_type": "code",
   "execution_count": 23,
   "metadata": {},
   "outputs": [
    {
     "name": "stdout",
     "output_type": "stream",
     "text": [
      "There are in total 216 images in the dataset.\n",
      "\n",
      "After splitting the dataset, we obtain: \n",
      "\tTrain size: 151\n",
      "\tValid size: 32\n",
      "\tTest size: 33\n"
     ]
    }
   ],
   "source": [
    "# Save the lists of path names to Dataframes\n",
    "df_train = pd.DataFrame(train_image_paths, columns=['path_names'])\n",
    "df_valid = pd.DataFrame(valid_image_paths_, columns=['path_names'])\n",
    "df_test = pd.DataFrame(test_image_paths, columns=['path_names'])\n",
    "\n",
    "# Save DataFrames locally\n",
    "df_train.to_pickle('../data/train_data.csv')\n",
    "df_valid.to_pickle('../data/valid_data.csv')\n",
    "df_test.to_pickle('../data/test_data.csv')\n",
    "\n",
    "# Print the sizes of all sets\n",
    "print(\"There are in total \" + str(len(image_paths)) + \" images in the dataset.\")\n",
    "print(\"\\nAfter splitting the dataset, we obtain: \\n\\tTrain size: {}\\n\\tValid size: {}\\n\\tTest size: {}\".format(len(train_image_paths), len(valid_image_paths_), len(test_image_paths)))"
   ]
  }
 ],
 "metadata": {
  "kernelspec": {
   "display_name": "Python 3",
   "language": "python",
   "name": "python3"
  },
  "language_info": {
   "codemirror_mode": {
    "name": "ipython",
    "version": 3
   },
   "file_extension": ".py",
   "mimetype": "text/x-python",
   "name": "python",
   "nbconvert_exporter": "python",
   "pygments_lexer": "ipython3",
   "version": "3.8.0"
  },
  "orig_nbformat": 4
 },
 "nbformat": 4,
 "nbformat_minor": 2
}
