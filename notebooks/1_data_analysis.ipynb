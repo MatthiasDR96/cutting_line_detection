{
 "cells": [
  {
   "cell_type": "markdown",
   "metadata": {},
   "source": [
    "# Data analysis\n",
    "\n",
    "This script goes through all images and draws the bounding box labels (in red) and cutting line labels (in violet) on the image. "
   ]
  },
  {
   "cell_type": "code",
   "execution_count": 1,
   "metadata": {},
   "outputs": [],
   "source": [
    "# Imports\n",
    "import glob\n",
    "import cv2\n",
    "import numpy as np\n",
    "import matplotlib.pyplot as plt"
   ]
  },
  {
   "cell_type": "code",
   "execution_count": 2,
   "metadata": {},
   "outputs": [],
   "source": [
    "# Get all image path names\n",
    "img_paths = glob.glob('../data/images/*.jpg')"
   ]
  },
  {
   "cell_type": "code",
   "execution_count": 3,
   "metadata": {},
   "outputs": [
    {
     "data": {
      "image/png": "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