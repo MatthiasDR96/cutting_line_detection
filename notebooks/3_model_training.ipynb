{
 "cells": [
  {
   "cell_type": "markdown",
   "metadata": {},
   "source": [
    "# Model training\n",
    "\n",
    "This script trains a neural network based on a pretrained ResNet18 neural net on the training data and outputs the results in the form of learning curves. "
   ]
  },
  {
   "cell_type": "code",
   "execution_count": 1,
   "metadata": {},
   "outputs": [
    {
     "name": "stderr",
     "output_type": "stream",
     "text": [
      "c:\\Python39\\lib\\site-packages\\tqdm\\auto.py:21: TqdmWarning: IProgress not found. Please update jupyter and ipywidgets. See https://ipywidgets.readthedocs.io/en/stable/user_install.html\n",
      "  from .autonotebook import tqdm as notebook_tqdm\n"
     ]
    }
   ],
   "source": [
    "# Imports\n",
    "import cv2\n",
    "import math\n",
    "import torch\n",
    "import numpy as np\n",
    "import pandas as pd\n",
    "import torch.nn as nn\n",
    "import albumentations as A\n",
    "from torchvision import models\n",
    "import matplotlib.pyplot as plt\n",
    "import torch.nn.functional as F\n",
    "from torch.utils.data import Dataset\n",
    "from torch.utils.data import DataLoader\n",
    "from albumentations.pytorch import ToTensorV2"
   ]
  },
  {
   "cell_type": "code",
   "execution_count": 2,
   "metadata": {},
   "outputs": [],
   "source": [
    "# Check if there is a graphical card (CUDA) available on the PC\n",
    "device = torch.device(\"cuda:\" + str(torch.cuda.current_device()) if torch.cuda.is_available() else \"cpu\")"
   ]
  },
  {
   "cell_type": "code",
   "execution_count": 3,
   "metadata": {},
   "outputs": [],
   "source": [
    "# Set training parameters\n",
    "epochs = 10\n",
    "learning_rate = 0.01\n",
    "batch_size = 16\n",
    "augmentation = 0"
   ]
  },
  {
   "cell_type": "code",
   "execution_count": 4,
   "metadata": {},
   "outputs": [],
   "source": [
    "# This class impements the Dataset\n",
    "class Dataset(Dataset):\n",
    "\n",
    "\tdef __init__(self, paths, transform=False):\n",
    "\t\tself.paths = paths\n",
    "\t\tself.transform = transform\n",
    "\n",
    "\tdef __len__(self):\n",
    "\t\treturn len(self.paths)\n",
    "\n",
    "\tdef __getitem__(self, idx):\n",
    "\n",
    "\t\t# Retrieve data sample\n",
    "\t\timg_path = self.paths[idx]\n",
    "\n",
    "\t\t# Read image and convert to RGB space\n",
    "\t\timage = cv2.imread(img_path) \n",
    "\t\timage = cv2.cvtColor(image, cv2.COLOR_BGR2RGB)\n",
    "\n",
    "\t\t# Get label\n",
    "\t\tkey = img_path.split('\\\\')[-1].split('.')[0]\n",
    "\t\tlabel_file = open(\"../data/labels/\" + key + \".txt\", \"r\")\n",
    "\t\tlabeldata = label_file.read().split(\" \")\n",
    "\n",
    "\t\t# Get keypoints\n",
    "\t\tkeypoints = [(float(labeldata[4]), float(labeldata[5])), (float(labeldata[6]), float(labeldata[7]))]\n",
    "\n",
    "\t\t# Define augmentation pipeline\n",
    "\t\tif self.transform:\n",
    "\t\t\ttransform = A.Compose([\n",
    "\t\t\t\tA.AdvancedBlur(),\n",
    "\t\t\t\tA.RandomGravel(),\n",
    "\t\t\t\tA.ISONoise(),\n",
    "\t\t\t\tA.RandomRotate90(p=0.5),\n",
    "\t\t\t\tA.HorizontalFlip(p=0.2),\n",
    "\t\t\t\tA.RandomBrightnessContrast(p=0.5),\n",
    "\t\t\t\tA.Resize(224, 224),\n",
    "\t\t\t\tA.Normalize(mean=[0.485, 0.456, 0.406], std=[0.229, 0.224, 0.225]),\n",
    "\t\t\t\tToTensorV2(),\n",
    "\t\t\t], keypoint_params=A.KeypointParams(format='xy', remove_invisible=True))\n",
    "\t\telse:\n",
    "\t\t\ttransform = A.Compose([\n",
    "\t\t\t\tA.Resize(224, 224),\n",
    "\t\t\t\tA.Normalize(mean=[0.485, 0.456, 0.406], std=[0.229, 0.224, 0.225]),\n",
    "\t\t\t\tToTensorV2(),\n",
    "\t\t\t], keypoint_params=A.KeypointParams(format='xy', remove_invisible=True))\n",
    "\t\t\n",
    "\t\t# Transform image and keypoints\n",
    "\t\ttransformed = transform(image=image, keypoints=keypoints)\n",
    "\t\ttransformed_image = transformed['image']\n",
    "\t\ttransformed_keypoints = transformed['keypoints']\n",
    "\n",
    "\t\t# Get target\n",
    "\t\ttarget = np.array([transformed_keypoints[0][0], transformed_keypoints[0][1], transformed_keypoints[1][0], transformed_keypoints[1][1]])\n",
    "\n",
    "\t\treturn transformed_image, target\n"
   ]
  },
  {
   "cell_type": "code",
   "execution_count": 5,
   "metadata": {},
   "outputs": [],
   "source": [
    "# Load csv files containing the image file paths\n",
    "df_train = pd.read_pickle('../data/train_data.csv')\n",
    "df_valid = pd.read_pickle('../data/valid_data.csv')\n",
    "\n",
    "# Create datasets using the dataset class that applies image transforms if the transform parameter is set to True\n",
    "train_ds = Dataset(df_train['path_names'], transform=augmentation)\n",
    "valid_ds = Dataset(df_valid['path_names'], transform=False) "
   ]
  },
  {
   "cell_type": "code",
   "execution_count": 6,
   "metadata": {},
   "outputs": [],
   "source": [
    "# Create data loaders that extract batches from the dataset with a certain batch size\n",
    "train_dl = DataLoader(train_ds, batch_size=batch_size, shuffle=False)\n",
    "valid_dl = DataLoader(valid_ds, batch_size=batch_size, shuffle=False)\n",
    "dataloaders = {'train': train_dl, 'valid': valid_dl}"
   ]
  },
  {
   "cell_type": "code",
   "execution_count": 7,
   "metadata": {},
   "outputs": [],
   "source": [
    "# Computes the error angle between the predicted and ground truth lines in degrees\n",
    "def loss_cos_fun(pred, y):\n",
    "\n",
    "\t# Get x and y differences between predicted points\n",
    "\tdelta_x_pred = pred[:,2]-pred[:,0]\n",
    "\tdelta_y_pred = pred[:,3]-pred[:,1]\n",
    "\n",
    "\t# Get x and y differences between ground truth points\n",
    "\tdelta_x_y = y[:,2]-y[:,0]\n",
    "\tdelta_y_y = y[:,3]-y[:,1]\n",
    "\n",
    "\t# Stack both into new tensors\n",
    "\ta = torch.stack((delta_x_pred, delta_y_pred), 1)\n",
    "\tb = torch.stack((delta_x_y, delta_y_y), 1)\n",
    "\n",
    "\t# Compute the sum of anle differences in degrees\n",
    "\tloss = torch.sum(torch.acos(F.cosine_similarity(a, b, dim=1)) * 180 / math.pi)\n",
    "\n",
    "\treturn loss"
   ]
  },
  {
   "cell_type": "code",
   "execution_count": 8,
   "metadata": {},
   "outputs": [],
   "source": [
    "# Computes the Euclidean distance between the first predicted point and the center of the ground truth points\n",
    "def loss_rmse_fun(pred, y):\n",
    "\n",
    "\t# Only get first xy point of prediction\n",
    "\txy1_pred = torch.stack((pred[:,0], pred[:,1]), 1) \n",
    "\n",
    "\t# Get center of two ground truth points\n",
    "\ty_centerx = (y[:,0] + y[:,2])/2\n",
    "\ty_centery = (y[:,1] + y[:,3])/2\n",
    "\ty_center = torch.stack((y_centerx, y_centery), 1)\n",
    "\n",
    "\t# Compute sum of Euclidean distances between first predicted point and center point\n",
    "\tloss = torch.sum(torch.sqrt(torch.sum((xy1_pred - y_center)**2, 1)))\n",
    "\n",
    "\treturn loss"
   ]
  },
  {
   "cell_type": "code",
   "execution_count": 9,
   "metadata": {},
   "outputs": [],
   "source": [
    "# This function implements the training and validation of the neural network\n",
    "def train_model(model, optimizer, dataloaders, device, epochs):\n",
    "\n",
    "\t# Learning curves\n",
    "\tresults = {\"training_loss\": [], \"validation_loss\": []}\n",
    "\n",
    "\t# Loop over epochs\n",
    "\tbest_model = model\n",
    "\tbest_loss = float('inf')\n",
    "\tfor epoch in range(epochs):\n",
    "\n",
    "\t\t# Debug\n",
    "\t\tprint(f'Epoch {epoch+1}/{epochs}')\n",
    "\n",
    "\t\t# Do a train and validation phase for each epoch\n",
    "\t\tfor phase in ['train', 'valid']:\n",
    "\n",
    "\t\t\t# Set state of model corresponding to phase\n",
    "\t\t\tif phase == 'train':\n",
    "\t\t\t\tmodel.train()  # Set model to training mode\n",
    "\t\t\telse:\n",
    "\t\t\t\tmodel.eval()   # Set model to evaluate mode\n",
    "\n",
    "\t\t\t# Reset loss over all batches and number of samples \n",
    "\t\t\trunning_loss = 0.0\n",
    "\t\t\tnum_samples = 0\n",
    "\n",
    "\t\t\t# Iterate over batches of inputs\n",
    "\t\t\tfor x, y in dataloaders[phase]:\n",
    "\n",
    "\t\t\t\t# Inputs shape\n",
    "\t\t\t\tbatch_size, *_ = x.shape\n",
    "\n",
    "\t\t\t\t# Convert input and outputs to CUDA\n",
    "\t\t\t\tx = x.to(device)\n",
    "\t\t\t\ty = y.to(device)\n",
    "\n",
    "\t\t\t\t# Predict line\n",
    "\t\t\t\tpred = model(x)\n",
    "\n",
    "\t\t\t\t# Compute total loss over batch\n",
    "\t\t\t\tloss_rmse_values = loss_rmse_fun(pred, y)\n",
    "\t\t\t\tloss_cos_values = loss_cos_fun(pred, y)\n",
    "\t\t\t\tloss = loss_rmse_values + loss_cos_values\n",
    "\n",
    "\t\t\t\t# Debug\n",
    "\t\t\t\t#debug(x, pred, y)\n",
    "\n",
    "\t\t\t\t# Sum losses of all batches\n",
    "\t\t\t\trunning_loss += loss.item()\n",
    "\n",
    "\t\t\t\t# Calculate total samples\n",
    "\t\t\t\tnum_samples += batch_size\n",
    "\n",
    "\t\t\t\t# When training\n",
    "\t\t\t\tif phase == 'train':\n",
    "\t\t\t\t\toptimizer.zero_grad() # Clear out gradients\n",
    "\t\t\t\t\tloss.backward() # Do backpropagation\n",
    "\t\t\t\t\toptimizer.step() # Step the optimizer\n",
    "\n",
    "\t\t\t# Compute total loss over the whole dataset (sum of loss of all samples divided by total number of samples)\n",
    "\t\t\tdataset_loss = running_loss/num_samples\n",
    "\n",
    "\t\t\t# Save results\n",
    "\t\t\tif phase == 'train':\n",
    "\t\t\t\tresults['training_loss'].append(dataset_loss)\n",
    "\t\t\t\tprint(\"train_loss %.3f\" % (dataset_loss))\n",
    "\t\t\telif phase == 'valid':\n",
    "\t\t\t\tresults['validation_loss'].append(dataset_loss)\n",
    "\t\t\t\tprint(\"val_loss %.3f\" % (dataset_loss))\n",
    "\n",
    "\t\t\t# Save model\n",
    "\t\t\tif phase == 'valid' and dataset_loss < best_loss:\n",
    "\t\t\t\tbest_model = model\n",
    "\t\t\t\tbest_loss = dataset_loss\n",
    "\n",
    "\t\t# Debug\n",
    "\t\tprint('-' * 10)\n",
    "\n",
    "\treturn best_loss, best_model, results"
   ]
  },
  {
   "cell_type": "code",
   "execution_count": 10,
   "metadata": {},
   "outputs": [
    {
     "name": "stdout",
     "output_type": "stream",
     "text": [
      "Epoch 1/10\n",
      "train_loss 229.672\n",
      "val_loss 31291.067\n",
      "----------\n",
      "Epoch 2/10\n",
      "train_loss 213.111\n",
      "val_loss 969.971\n",
      "----------\n",
      "Epoch 3/10\n",
      "train_loss 204.358\n",
      "val_loss 274.251\n",
      "----------\n",
      "Epoch 4/10\n"
     ]
    }
   ],
   "source": [
    "# Load a pretrained ResNet18 model\n",
    "model = models.resnet18(pretrained=True)\n",
    "\n",
    "# Get the number of features of the last fully connected layer\n",
    "total_features = model.fc.in_features\n",
    "\n",
    "# Replace this final layer with a fully connected layer that outputs four neurons [x1, y1, x2, y2]\n",
    "model.fc = nn.Sequential(nn.Linear(total_features, 4))\n",
    "\n",
    "# Link model to device\n",
    "model.to(device)\n",
    "\n",
    "# Set optimizer\n",
    "optimizer = torch.optim.Adam(model.parameters(), lr=learning_rate)\n",
    "\n",
    "# Train model\n",
    "loss, model, results = train_model(model, optimizer, dataloaders, device, epochs=epochs)"
   ]
  },
  {
   "cell_type": "code",
   "execution_count": null,
   "metadata": {},
   "outputs": [],
   "source": [
    "# Model name\n",
    "model_name = \"model_\" + str(learning_rate) + \"-\" + str(batch_size) + '-' + str(augmentation) + '-' + str(epochs)\n",
    "\n",
    "# Save model\n",
    "torch.save(model, '../models/' + model_name + '.pt')"
   ]
  },
  {
   "cell_type": "code",
   "execution_count": null,
   "metadata": {},
   "outputs": [
    {
     "data": {
      "text/plain": [
       "<matplotlib.legend.Legend at 0x25587ddfb80>"
      ]
     },
     "execution_count": 71,
     "metadata": {},
     "output_type": "execute_result"
    },
    {
     "data": {
      "image/png": "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",
      "text/plain": [
       "<Figure size 640x480 with 1 Axes>"
      ]
     },
     "metadata": {},
     "output_type": "display_data"
    }
   ],
   "source": [
    "# Plot learning curves\n",
    "fig = plt.figure(1)\n",
    "mask = [i for i in range(len(results['validation_loss'])) if results['validation_loss'][i] < 1000]\n",
    "results['training_loss'] = [results['training_loss'][i] for i in mask]\n",
    "results['validation_loss'] = [results['validation_loss'][i] for i in mask]\n",
    "plt.plot(range(1, len(mask)+1), results['training_loss'], 'b-', markersize=1, label='train')\n",
    "plt.plot(range(1, len(mask)+1), results['validation_loss'], 'r-', markersize=1, label='valid')\n",
    "plt.title('Learning curves')\n",
    "plt.xlabel('Number of epochs')\n",
    "plt.ylabel('RMSE-loss + cosine similarity loss')\n",
    "plt.legend()"
   ]
  }
 ],
 "metadata": {
  "kernelspec": {
   "display_name": "Python 3",
   "language": "python",
   "name": "python3"
  },
  "language_info": {
  